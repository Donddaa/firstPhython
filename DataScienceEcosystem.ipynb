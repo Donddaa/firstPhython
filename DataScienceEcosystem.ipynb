{
  "nbformat": 4,
  "nbformat_minor": 0,
  "metadata": {
    "colab": {
      "provenance": []
    },
    "kernelspec": {
      "name": "python3",
      "display_name": "Python 3"
    },
    "language_info": {
      "name": "python"
    }
  },
  "cells": [
    {
      "cell_type": "markdown",
      "source": [
        "# Data Science Tools and Ecosystem"
      ],
      "metadata": {
        "id": "C7T_KNI6s9To"
      }
    },
    {
      "cell_type": "markdown",
      "source": [
        "##### In this notebook, Data Science Tools and Ecosystem are summarized."
      ],
      "metadata": {
        "id": "h1up71XqtCd1"
      }
    },
    {
      "cell_type": "markdown",
      "source": [
        "### **Objectives:**\n",
        "  \n",
        "  Some of the key takeaways from the Notebook\n",
        "  - Languages used by the DS\n",
        "  - Popular libraries used by DS\n",
        "  - Tools used by DS\n",
        "  - Testing arithmatic operations in Python\n"
      ],
      "metadata": {
        "id": "Ap_yGqUdt9NA"
      }
    },
    {
      "cell_type": "markdown",
      "source": [
        "Some of the popular languages that Data Scientists use are:\n",
        " - Python\n",
        " - R\n",
        " - SQL\n",
        " - Java"
      ],
      "metadata": {
        "id": "x_1K6DXPtNbw"
      }
    },
    {
      "cell_type": "markdown",
      "source": [
        "Some of the commonly used libraries used by Data Scientists include:\n",
        "   - Numpy\n",
        "   - Pandas\n",
        "   - SciPy\n",
        "   - MatPlotLib"
      ],
      "metadata": {
        "id": "UPcT_8sKtNmd"
      }
    },
    {
      "cell_type": "markdown",
      "source": [
        "|Data Science Tools|\n",
        "  |------------------|\n",
        "  | Jupyter Notebook|\n",
        "  | R Studio |\n",
        "  | JupyterLabs|"
      ],
      "metadata": {
        "id": "VlgXq1WUtbi2"
      }
    },
    {
      "cell_type": "markdown",
      "source": [
        "# Below are a few examples of evaluating arithmetic expressions in Python"
      ],
      "metadata": {
        "id": "I8gQQuLRtdso"
      }
    },
    {
      "cell_type": "code",
      "source": [
        "# This a simple arithmetic expression to mutiply then add integers\n",
        "(3*4)+5"
      ],
      "metadata": {
        "colab": {
          "base_uri": "https://localhost:8080/"
        },
        "id": "6kbCUX35r39A",
        "outputId": "ec318720-f4c9-4c93-9861-d887f27a16a2"
      },
      "execution_count": 4,
      "outputs": [
        {
          "output_type": "execute_result",
          "data": {
            "text/plain": [
              "17"
            ]
          },
          "metadata": {},
          "execution_count": 4
        }
      ]
    },
    {
      "cell_type": "code",
      "source": [
        "# This will convert 200 minutes to hours by diving by 60\n",
        "200/60"
      ],
      "metadata": {
        "colab": {
          "base_uri": "https://localhost:8080/"
        },
        "id": "YqP4SFF9r8kI",
        "outputId": "dff85d3c-56f6-4da1-85e3-b926561e5f23"
      },
      "execution_count": 2,
      "outputs": [
        {
          "output_type": "execute_result",
          "data": {
            "text/plain": [
              "3.3333333333333335"
            ]
          },
          "metadata": {},
          "execution_count": 2
        }
      ]
    },
    {
      "cell_type": "markdown",
      "source": [
        "## Author\n",
        "Bhavesh Donda"
      ],
      "metadata": {
        "id": "U5PxSmfbsGdE"
      }
    }
  ]
}